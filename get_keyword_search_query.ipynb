{
 "cells": [
  {
   "cell_type": "code",
   "execution_count": 19,
   "metadata": {},
   "outputs": [
    {
     "name": "stdout",
     "output_type": "stream",
     "text": [
      "(\"big data\" AND \"sustainability\") OR (\"data analytics\" AND \"sustainability\") OR (\"data mining\" AND \"sustainability\") OR (\"machine learning\" AND \"sustainability\") OR (\"artificial intelligence\" AND \"sustainability\") OR (\"descriptive analytics\" AND \"sustainability\") OR (\"predictive analytics\" AND \"sustainability\") OR (\"prescriptive analytics\" AND \"sustainability\") OR (\"predictive modeling\" AND \"sustainability\") OR (\"regression\" AND \"sustainability\") OR (\"deep learning\" AND \"sustainability\") OR (\"neural networks\" AND \"sustainability\") OR (\"data visualization\" AND \"sustainability\") \n"
     ]
    }
   ],
   "source": [
    "tech_kws = [\"big data\", \"data analytics\", \"data mining\", \"machine learning\", \"artificial intelligence\", \n",
    "            \"descriptive analytics\", \"predictive analytics\", \"prescriptive analytics\", \"predictive modeling\", \n",
    "            \"regression\", \"deep learning\", \"neural networks\", \"data visualization\" ]\n",
    "domain_kws = [\"sustainability\"]\n",
    "\n",
    "query_str = ''\n",
    "\n",
    "for i in tech_kws:\n",
    "    for j in domain_kws:\n",
    "        query_str += f'(\"{i}\" AND \"{j}\") OR '\n",
    "print(query_str[:-3])"
   ]
  },
  {
   "cell_type": "code",
   "execution_count": 8,
   "metadata": {},
   "outputs": [
    {
     "name": "stdout",
     "output_type": "stream",
     "text": [
      "[('big data', 'waste'), ('big data', 'energy'), ('big data', 'waste water treatment'), ('big data', 'environment'), ('big data', 'pollution prevention'), ('big data', 'global warming'), ('big data', 'food waste'), ('big data', 'recycling'), ('big data', 'landfills'), ('big data', 'sustainability'), ('big data', 'composting'), ('data analytics', 'waste'), ('data analytics', 'energy'), ('data analytics', 'waste water treatment'), ('data analytics', 'environment'), ('data analytics', 'pollution prevention'), ('data analytics', 'global warming'), ('data analytics', 'food waste'), ('data analytics', 'recycling'), ('data analytics', 'landfills'), ('data analytics', 'sustainability'), ('data analytics', 'composting'), ('data mining', 'waste'), ('data mining', 'energy'), ('data mining', 'waste water treatment'), ('data mining', 'environment'), ('data mining', 'pollution prevention'), ('data mining', 'global warming'), ('data mining', 'food waste'), ('data mining', 'recycling'), ('data mining', 'landfills'), ('data mining', 'sustainability'), ('data mining', 'composting'), ('machine learning', 'waste'), ('machine learning', 'energy'), ('machine learning', 'waste water treatment'), ('machine learning', 'environment'), ('machine learning', 'pollution prevention'), ('machine learning', 'global warming'), ('machine learning', 'food waste'), ('machine learning', 'recycling'), ('machine learning', 'landfills'), ('machine learning', 'sustainability'), ('machine learning', 'composting'), ('artificial intelligence', 'waste'), ('artificial intelligence', 'energy'), ('artificial intelligence', 'waste water treatment'), ('artificial intelligence', 'environment'), ('artificial intelligence', 'pollution prevention'), ('artificial intelligence', 'global warming'), ('artificial intelligence', 'food waste'), ('artificial intelligence', 'recycling'), ('artificial intelligence', 'landfills'), ('artificial intelligence', 'sustainability'), ('artificial intelligence', 'composting'), ('descriptive analytics', 'waste'), ('descriptive analytics', 'energy'), ('descriptive analytics', 'waste water treatment'), ('descriptive analytics', 'environment'), ('descriptive analytics', 'pollution prevention'), ('descriptive analytics', 'global warming'), ('descriptive analytics', 'food waste'), ('descriptive analytics', 'recycling'), ('descriptive analytics', 'landfills'), ('descriptive analytics', 'sustainability'), ('descriptive analytics', 'composting'), ('predictive analytics', 'waste'), ('predictive analytics', 'energy'), ('predictive analytics', 'waste water treatment'), ('predictive analytics', 'environment'), ('predictive analytics', 'pollution prevention'), ('predictive analytics', 'global warming'), ('predictive analytics', 'food waste'), ('predictive analytics', 'recycling'), ('predictive analytics', 'landfills'), ('predictive analytics', 'sustainability'), ('predictive analytics', 'composting'), ('prescriptive analytics', 'waste'), ('prescriptive analytics', 'energy'), ('prescriptive analytics', 'waste water treatment'), ('prescriptive analytics', 'environment'), ('prescriptive analytics', 'pollution prevention'), ('prescriptive analytics', 'global warming'), ('prescriptive analytics', 'food waste'), ('prescriptive analytics', 'recycling'), ('prescriptive analytics', 'landfills'), ('prescriptive analytics', 'sustainability'), ('prescriptive analytics', 'composting'), ('predictive modeling', 'waste'), ('predictive modeling', 'energy'), ('predictive modeling', 'waste water treatment'), ('predictive modeling', 'environment'), ('predictive modeling', 'pollution prevention'), ('predictive modeling', 'global warming'), ('predictive modeling', 'food waste'), ('predictive modeling', 'recycling'), ('predictive modeling', 'landfills'), ('predictive modeling', 'sustainability'), ('predictive modeling', 'composting'), ('regression', 'waste'), ('regression', 'energy'), ('regression', 'waste water treatment'), ('regression', 'environment'), ('regression', 'pollution prevention'), ('regression', 'global warming'), ('regression', 'food waste'), ('regression', 'recycling'), ('regression', 'landfills'), ('regression', 'sustainability'), ('regression', 'composting'), ('classification', 'waste'), ('classification', 'energy'), ('classification', 'waste water treatment'), ('classification', 'environment'), ('classification', 'pollution prevention'), ('classification', 'global warming'), ('classification', 'food waste'), ('classification', 'recycling'), ('classification', 'landfills'), ('classification', 'sustainability'), ('classification', 'composting'), ('deep learning', 'waste'), ('deep learning', 'energy'), ('deep learning', 'waste water treatment'), ('deep learning', 'environment'), ('deep learning', 'pollution prevention'), ('deep learning', 'global warming'), ('deep learning', 'food waste'), ('deep learning', 'recycling'), ('deep learning', 'landfills'), ('deep learning', 'sustainability'), ('deep learning', 'composting'), ('neural networks', 'waste'), ('neural networks', 'energy'), ('neural networks', 'waste water treatment'), ('neural networks', 'environment'), ('neural networks', 'pollution prevention'), ('neural networks', 'global warming'), ('neural networks', 'food waste'), ('neural networks', 'recycling'), ('neural networks', 'landfills'), ('neural networks', 'sustainability'), ('neural networks', 'composting'), ('data visualization', 'waste'), ('data visualization', 'energy'), ('data visualization', 'waste water treatment'), ('data visualization', 'environment'), ('data visualization', 'pollution prevention'), ('data visualization', 'global warming'), ('data visualization', 'food waste'), ('data visualization', 'recycling'), ('data visualization', 'landfills'), ('data visualization', 'sustainability'), ('data visualization', 'composting')]\n"
     ]
    }
   ],
   "source": [
    "import itertools\n",
    "\n",
    "combined_list = list(itertools.product(tech_kws, domain_kws))\n",
    "print(combined_list)"
   ]
  },
  {
   "cell_type": "code",
   "execution_count": null,
   "metadata": {},
   "outputs": [],
   "source": []
  }
 ],
 "metadata": {
  "kernelspec": {
   "display_name": "papers_data_analysis",
   "language": "python",
   "name": "papers_data_analysis"
  },
  "language_info": {
   "codemirror_mode": {
    "name": "ipython",
    "version": 3
   },
   "file_extension": ".py",
   "mimetype": "text/x-python",
   "name": "python",
   "nbconvert_exporter": "python",
   "pygments_lexer": "ipython3",
   "version": "3.8.5"
  }
 },
 "nbformat": 4,
 "nbformat_minor": 4
}
