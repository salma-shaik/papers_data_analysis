{
 "cells": [
  {
   "cell_type": "code",
   "execution_count": 70,
   "metadata": {},
   "outputs": [],
   "source": [
    "import pandas as pd\n",
    "import xlrd\n",
    "pd.set_option('display.max_rows', 200)"
   ]
  },
  {
   "cell_type": "code",
   "execution_count": 71,
   "metadata": {},
   "outputs": [
    {
     "data": {
      "text/html": [
       "<div>\n",
       "<style scoped>\n",
       "    .dataframe tbody tr th:only-of-type {\n",
       "        vertical-align: middle;\n",
       "    }\n",
       "\n",
       "    .dataframe tbody tr th {\n",
       "        vertical-align: top;\n",
       "    }\n",
       "\n",
       "    .dataframe thead th {\n",
       "        text-align: right;\n",
       "    }\n",
       "</style>\n",
       "<table border=\"1\" class=\"dataframe\">\n",
       "  <thead>\n",
       "    <tr style=\"text-align: right;\">\n",
       "      <th></th>\n",
       "      <th>Unit #</th>\n",
       "      <th>Event Start Date</th>\n",
       "      <th>Event End Date</th>\n",
       "      <th>Time Elapsed (Hours)</th>\n",
       "      <th>Event Description</th>\n",
       "    </tr>\n",
       "  </thead>\n",
       "  <tbody>\n",
       "    <tr>\n",
       "      <th>0</th>\n",
       "      <td>1</td>\n",
       "      <td>2019-01-01 00:00:00</td>\n",
       "      <td>2019-01-07 06:00:00</td>\n",
       "      <td>150</td>\n",
       "      <td>Reserve Shutdown</td>\n",
       "    </tr>\n",
       "    <tr>\n",
       "      <th>1</th>\n",
       "      <td>1</td>\n",
       "      <td>2019-01-07 06:00:00</td>\n",
       "      <td>2019-01-29 08:00:00</td>\n",
       "      <td>530</td>\n",
       "      <td>Maintenance Outage</td>\n",
       "    </tr>\n",
       "    <tr>\n",
       "      <th>2</th>\n",
       "      <td>1</td>\n",
       "      <td>2019-01-29 08:00:00</td>\n",
       "      <td>2019-01-30 12:28:00</td>\n",
       "      <td>28</td>\n",
       "      <td>Reserve Shutdown</td>\n",
       "    </tr>\n",
       "    <tr>\n",
       "      <th>3</th>\n",
       "      <td>1</td>\n",
       "      <td>2019-01-30 12:28:00</td>\n",
       "      <td>2019-01-31 14:32:00</td>\n",
       "      <td>26</td>\n",
       "      <td>Forced Outage</td>\n",
       "    </tr>\n",
       "    <tr>\n",
       "      <th>4</th>\n",
       "      <td>1</td>\n",
       "      <td>2019-01-31 14:32:00</td>\n",
       "      <td>2019-04-15 06:00:00</td>\n",
       "      <td>1767</td>\n",
       "      <td>Reserve Shutdown</td>\n",
       "    </tr>\n",
       "    <tr>\n",
       "      <th>5</th>\n",
       "      <td>1</td>\n",
       "      <td>2019-04-15 06:00:00</td>\n",
       "      <td>2019-04-17 10:13:00</td>\n",
       "      <td>52</td>\n",
       "      <td>Planned Outage</td>\n",
       "    </tr>\n",
       "    <tr>\n",
       "      <th>6</th>\n",
       "      <td>1</td>\n",
       "      <td>2019-04-17 10:13:00</td>\n",
       "      <td>2019-05-29 07:00:00</td>\n",
       "      <td>1004</td>\n",
       "      <td>Reserve Shutdown</td>\n",
       "    </tr>\n",
       "    <tr>\n",
       "      <th>7</th>\n",
       "      <td>1</td>\n",
       "      <td>2019-05-29 07:00:00</td>\n",
       "      <td>2019-05-29 14:00:00</td>\n",
       "      <td>7</td>\n",
       "      <td>Planned Outage</td>\n",
       "    </tr>\n",
       "    <tr>\n",
       "      <th>8</th>\n",
       "      <td>1</td>\n",
       "      <td>2019-05-29 14:00:00</td>\n",
       "      <td>2019-08-12 09:00:00</td>\n",
       "      <td>1794</td>\n",
       "      <td>Reserve Shutdown</td>\n",
       "    </tr>\n",
       "    <tr>\n",
       "      <th>9</th>\n",
       "      <td>1</td>\n",
       "      <td>2019-08-12 09:00:00</td>\n",
       "      <td>2019-09-04 08:44:00</td>\n",
       "      <td>551</td>\n",
       "      <td>Maintenance Outage</td>\n",
       "    </tr>\n",
       "    <tr>\n",
       "      <th>10</th>\n",
       "      <td>1</td>\n",
       "      <td>2019-09-04 08:44:00</td>\n",
       "      <td>2019-11-07 06:00:00</td>\n",
       "      <td>1533</td>\n",
       "      <td>Reserve Shutdown</td>\n",
       "    </tr>\n",
       "    <tr>\n",
       "      <th>11</th>\n",
       "      <td>1</td>\n",
       "      <td>2019-11-07 06:00:00</td>\n",
       "      <td>2019-11-13 21:15:00</td>\n",
       "      <td>159</td>\n",
       "      <td>Planned Outage</td>\n",
       "    </tr>\n",
       "    <tr>\n",
       "      <th>12</th>\n",
       "      <td>1</td>\n",
       "      <td>2019-11-13 21:15:00</td>\n",
       "      <td>2019-12-03 14:15:00</td>\n",
       "      <td>473</td>\n",
       "      <td>Reserve Shutdown</td>\n",
       "    </tr>\n",
       "    <tr>\n",
       "      <th>13</th>\n",
       "      <td>1</td>\n",
       "      <td>2019-12-03 14:15:00</td>\n",
       "      <td>2019-12-03 15:10:00</td>\n",
       "      <td>0</td>\n",
       "      <td>Run</td>\n",
       "    </tr>\n",
       "    <tr>\n",
       "      <th>14</th>\n",
       "      <td>1</td>\n",
       "      <td>2019-12-03 15:10:00</td>\n",
       "      <td>2019-12-04 10:35:00</td>\n",
       "      <td>19</td>\n",
       "      <td>Reserve Shutdown</td>\n",
       "    </tr>\n",
       "  </tbody>\n",
       "</table>\n",
       "</div>"
      ],
      "text/plain": [
       "    Unit #    Event Start Date      Event End Date  Time Elapsed (Hours)  \\\n",
       "0        1 2019-01-01 00:00:00 2019-01-07 06:00:00                   150   \n",
       "1        1 2019-01-07 06:00:00 2019-01-29 08:00:00                   530   \n",
       "2        1 2019-01-29 08:00:00 2019-01-30 12:28:00                    28   \n",
       "3        1 2019-01-30 12:28:00 2019-01-31 14:32:00                    26   \n",
       "4        1 2019-01-31 14:32:00 2019-04-15 06:00:00                  1767   \n",
       "5        1 2019-04-15 06:00:00 2019-04-17 10:13:00                    52   \n",
       "6        1 2019-04-17 10:13:00 2019-05-29 07:00:00                  1004   \n",
       "7        1 2019-05-29 07:00:00 2019-05-29 14:00:00                     7   \n",
       "8        1 2019-05-29 14:00:00 2019-08-12 09:00:00                  1794   \n",
       "9        1 2019-08-12 09:00:00 2019-09-04 08:44:00                   551   \n",
       "10       1 2019-09-04 08:44:00 2019-11-07 06:00:00                  1533   \n",
       "11       1 2019-11-07 06:00:00 2019-11-13 21:15:00                   159   \n",
       "12       1 2019-11-13 21:15:00 2019-12-03 14:15:00                   473   \n",
       "13       1 2019-12-03 14:15:00 2019-12-03 15:10:00                     0   \n",
       "14       1 2019-12-03 15:10:00 2019-12-04 10:35:00                    19   \n",
       "\n",
       "     Event Description  \n",
       "0     Reserve Shutdown  \n",
       "1   Maintenance Outage  \n",
       "2     Reserve Shutdown  \n",
       "3        Forced Outage  \n",
       "4     Reserve Shutdown  \n",
       "5       Planned Outage  \n",
       "6     Reserve Shutdown  \n",
       "7       Planned Outage  \n",
       "8     Reserve Shutdown  \n",
       "9   Maintenance Outage  \n",
       "10    Reserve Shutdown  \n",
       "11      Planned Outage  \n",
       "12    Reserve Shutdown  \n",
       "13                 Run  \n",
       "14    Reserve Shutdown  "
      ]
     },
     "execution_count": 71,
     "metadata": {},
     "output_type": "execute_result"
    }
   ],
   "source": [
    "peakers_data = pd.read_excel('peakers_startup_data.xlsx', skiprows=[0])\n",
    "peakers_data.head(15)"
   ]
  },
  {
   "cell_type": "code",
   "execution_count": 72,
   "metadata": {},
   "outputs": [
    {
     "data": {
      "text/plain": [
       "Unit #                           int64\n",
       "Event Start Date        datetime64[ns]\n",
       "Event End Date          datetime64[ns]\n",
       "Time Elapsed (Hours)             int64\n",
       "Event Description               object\n",
       "dtype: object"
      ]
     },
     "execution_count": 72,
     "metadata": {},
     "output_type": "execute_result"
    }
   ],
   "source": [
    "peakers_data.dtypes"
   ]
  },
  {
   "cell_type": "code",
   "execution_count": 73,
   "metadata": {},
   "outputs": [
    {
     "data": {
      "text/html": [
       "<div>\n",
       "<style scoped>\n",
       "    .dataframe tbody tr th:only-of-type {\n",
       "        vertical-align: middle;\n",
       "    }\n",
       "\n",
       "    .dataframe tbody tr th {\n",
       "        vertical-align: top;\n",
       "    }\n",
       "\n",
       "    .dataframe thead th {\n",
       "        text-align: right;\n",
       "    }\n",
       "</style>\n",
       "<table border=\"1\" class=\"dataframe\">\n",
       "  <thead>\n",
       "    <tr style=\"text-align: right;\">\n",
       "      <th></th>\n",
       "      <th>Event Description</th>\n",
       "      <th>Total Occurrences</th>\n",
       "    </tr>\n",
       "  </thead>\n",
       "  <tbody>\n",
       "    <tr>\n",
       "      <th>0</th>\n",
       "      <td>Forced Outage</td>\n",
       "      <td>3</td>\n",
       "    </tr>\n",
       "    <tr>\n",
       "      <th>1</th>\n",
       "      <td>Maintenance Outage</td>\n",
       "      <td>6</td>\n",
       "    </tr>\n",
       "    <tr>\n",
       "      <th>2</th>\n",
       "      <td>Planned Outage</td>\n",
       "      <td>9</td>\n",
       "    </tr>\n",
       "    <tr>\n",
       "      <th>3</th>\n",
       "      <td>Reserve Shutdown</td>\n",
       "      <td>32</td>\n",
       "    </tr>\n",
       "    <tr>\n",
       "      <th>4</th>\n",
       "      <td>Run</td>\n",
       "      <td>11</td>\n",
       "    </tr>\n",
       "  </tbody>\n",
       "</table>\n",
       "</div>"
      ],
      "text/plain": [
       "    Event Description  Total Occurrences\n",
       "0       Forced Outage                  3\n",
       "1  Maintenance Outage                  6\n",
       "2      Planned Outage                  9\n",
       "3    Reserve Shutdown                 32\n",
       "4                 Run                 11"
      ]
     },
     "execution_count": 73,
     "metadata": {},
     "output_type": "execute_result"
    }
   ],
   "source": [
    "peakers_data_by_stage = peakers_data.groupby('Event Description')['Unit #'].count().reset_index()\n",
    "peakers_data_by_stage.rename({'Unit #': 'Total Occurrences'}, axis=1, inplace=True)\n",
    "peakers_data_by_stage.head()"
   ]
  },
  {
   "cell_type": "code",
   "execution_count": 74,
   "metadata": {},
   "outputs": [
    {
     "name": "stdout",
     "output_type": "stream",
     "text": [
      "11\n",
      "18.0327868852459\n"
     ]
    }
   ],
   "source": [
    "total_outages = peakers_data_by_stage.loc[peakers_data_by_stage['Event Description'] != 'Run']['Total Occurrences'].sum()\n",
    "success_starts = peakers_data_by_stage.loc[peakers_data_by_stage['Event Description'] == 'Run']['Total Occurrences'].values[0]\n",
    "successful_start_percent = (success_starts/(success_starts+total_outages)) * 100\n",
    "print(success_starts)\n",
    "print(successful_start_percent)"
   ]
  },
  {
   "cell_type": "code",
   "execution_count": 75,
   "metadata": {},
   "outputs": [
    {
     "data": {
      "image/png": "[encoded data removed]",
      "text/plain": [
       "<Figure size 432x288 with 1 Axes>"
      ]
     },
     "metadata": {
      "needs_background": "light"
     },
     "output_type": "display_data"
    }
   ],
   "source": [
    "import matplotlib.pyplot as plt\n",
    "import seaborn as sns\n",
    "\n",
    "sns.barplot(x='Event Description', y='Total Occurrences', data=peakers_data_by_stage)\n",
    "\n",
    "plt.xticks(rotation=45)\n",
    "plt.show()"
   ]
  },
  {
   "cell_type": "code",
   "execution_count": 76,
   "metadata": {},
   "outputs": [
    {
     "data": {
      "text/html": [
       "<div>\n",
       "<style scoped>\n",
       "    .dataframe tbody tr th:only-of-type {\n",
       "        vertical-align: middle;\n",
       "    }\n",
       "\n",
       "    .dataframe tbody tr th {\n",
       "        vertical-align: top;\n",
       "    }\n",
       "\n",
       "    .dataframe thead th {\n",
       "        text-align: right;\n",
       "    }\n",
       "</style>\n",
       "<table border=\"1\" class=\"dataframe\">\n",
       "  <thead>\n",
       "    <tr style=\"text-align: right;\">\n",
       "      <th></th>\n",
       "      <th>Unit #</th>\n",
       "      <th>Event Start Date</th>\n",
       "      <th>Event End Date</th>\n",
       "      <th>Time Elapsed (Hours)</th>\n",
       "      <th>Event Description</th>\n",
       "    </tr>\n",
       "  </thead>\n",
       "  <tbody>\n",
       "    <tr>\n",
       "      <th>0</th>\n",
       "      <td>1</td>\n",
       "      <td>2019-01-07 06:00:00</td>\n",
       "      <td>2019-01-29 08:00:00</td>\n",
       "      <td>530</td>\n",
       "      <td>Maintenance Outage</td>\n",
       "    </tr>\n",
       "    <tr>\n",
       "      <th>1</th>\n",
       "      <td>1</td>\n",
       "      <td>2019-01-30 12:28:00</td>\n",
       "      <td>2019-01-31 14:32:00</td>\n",
       "      <td>26</td>\n",
       "      <td>Forced Outage</td>\n",
       "    </tr>\n",
       "    <tr>\n",
       "      <th>2</th>\n",
       "      <td>1</td>\n",
       "      <td>2019-04-15 06:00:00</td>\n",
       "      <td>2019-04-17 10:13:00</td>\n",
       "      <td>52</td>\n",
       "      <td>Planned Outage</td>\n",
       "    </tr>\n",
       "    <tr>\n",
       "      <th>3</th>\n",
       "      <td>1</td>\n",
       "      <td>2019-05-29 07:00:00</td>\n",
       "      <td>2019-05-29 14:00:00</td>\n",
       "      <td>7</td>\n",
       "      <td>Planned Outage</td>\n",
       "    </tr>\n",
       "    <tr>\n",
       "      <th>4</th>\n",
       "      <td>1</td>\n",
       "      <td>2019-08-12 09:00:00</td>\n",
       "      <td>2019-09-04 08:44:00</td>\n",
       "      <td>551</td>\n",
       "      <td>Maintenance Outage</td>\n",
       "    </tr>\n",
       "  </tbody>\n",
       "</table>\n",
       "</div>"
      ],
      "text/plain": [
       "   Unit #    Event Start Date      Event End Date  Time Elapsed (Hours)  \\\n",
       "0       1 2019-01-07 06:00:00 2019-01-29 08:00:00                   530   \n",
       "1       1 2019-01-30 12:28:00 2019-01-31 14:32:00                    26   \n",
       "2       1 2019-04-15 06:00:00 2019-04-17 10:13:00                    52   \n",
       "3       1 2019-05-29 07:00:00 2019-05-29 14:00:00                     7   \n",
       "4       1 2019-08-12 09:00:00 2019-09-04 08:44:00                   551   \n",
       "\n",
       "    Event Description  \n",
       "0  Maintenance Outage  \n",
       "1       Forced Outage  \n",
       "2      Planned Outage  \n",
       "3      Planned Outage  \n",
       "4  Maintenance Outage  "
      ]
     },
     "execution_count": 76,
     "metadata": {},
     "output_type": "execute_result"
    }
   ],
   "source": [
    "#### Don't consider reserve shutdown since it doesn't affect reliability in our case\n",
    "peakers_data_wdt_rsrve = peakers_data.query(\"`Event Description` ! = 'Reserve Shutdown'\").reset_index(drop=True)\n",
    "peakers_data_wdt_rsrve.head()"
   ]
  },
  {
   "cell_type": "code",
   "execution_count": 77,
   "metadata": {},
   "outputs": [
    {
     "data": {
      "text/plain": [
       "Unit #                           int64\n",
       "Event Start Date        datetime64[ns]\n",
       "Event End Date          datetime64[ns]\n",
       "Time Elapsed (Hours)             int64\n",
       "Event Description               object\n",
       "dtype: object"
      ]
     },
     "execution_count": 77,
     "metadata": {},
     "output_type": "execute_result"
    }
   ],
   "source": [
    "peakers_data_wdt_rsrve.dtypes"
   ]
  },
  {
   "cell_type": "code",
   "execution_count": 78,
   "metadata": {},
   "outputs": [
    {
     "data": {
      "text/html": [
       "<div>\n",
       "<style scoped>\n",
       "    .dataframe tbody tr th:only-of-type {\n",
       "        vertical-align: middle;\n",
       "    }\n",
       "\n",
       "    .dataframe tbody tr th {\n",
       "        vertical-align: top;\n",
       "    }\n",
       "\n",
       "    .dataframe thead th {\n",
       "        text-align: right;\n",
       "    }\n",
       "</style>\n",
       "<table border=\"1\" class=\"dataframe\">\n",
       "  <thead>\n",
       "    <tr style=\"text-align: right;\">\n",
       "      <th></th>\n",
       "      <th>Event Description</th>\n",
       "      <th>Total Occurrences</th>\n",
       "    </tr>\n",
       "  </thead>\n",
       "  <tbody>\n",
       "    <tr>\n",
       "      <th>0</th>\n",
       "      <td>Forced Outage</td>\n",
       "      <td>3</td>\n",
       "    </tr>\n",
       "    <tr>\n",
       "      <th>1</th>\n",
       "      <td>Maintenance Outage</td>\n",
       "      <td>6</td>\n",
       "    </tr>\n",
       "    <tr>\n",
       "      <th>2</th>\n",
       "      <td>Planned Outage</td>\n",
       "      <td>9</td>\n",
       "    </tr>\n",
       "    <tr>\n",
       "      <th>3</th>\n",
       "      <td>Run</td>\n",
       "      <td>11</td>\n",
       "    </tr>\n",
       "  </tbody>\n",
       "</table>\n",
       "</div>"
      ],
      "text/plain": [
       "    Event Description  Total Occurrences\n",
       "0       Forced Outage                  3\n",
       "1  Maintenance Outage                  6\n",
       "2      Planned Outage                  9\n",
       "3                 Run                 11"
      ]
     },
     "execution_count": 78,
     "metadata": {},
     "output_type": "execute_result"
    }
   ],
   "source": [
    "peakers_data_wdt_rsrve_by_stage = peakers_data_wdt_rsrve.groupby('Event Description')['Unit #'].count().reset_index()\n",
    "peakers_data_wdt_rsrve_by_stage.rename({'Unit #': 'Total Occurrences'}, axis=1, inplace=True)\n",
    "peakers_data_wdt_rsrve_by_stage.head()"
   ]
  },
  {
   "cell_type": "code",
   "execution_count": 79,
   "metadata": {},
   "outputs": [
    {
     "name": "stdout",
     "output_type": "stream",
     "text": [
      "11\n",
      "37.93103448275862\n"
     ]
    }
   ],
   "source": [
    "total_outages = peakers_data_wdt_rsrve_by_stage.loc[peakers_data_wdt_rsrve_by_stage['Event Description'] != 'Run']['Total Occurrences'].sum()\n",
    "successful_starts = peakers_data_wdt_rsrve_by_stage.loc[peakers_data_wdt_rsrve_by_stage['Event Description'] == 'Run']['Total Occurrences'].values[0]\n",
    "successful_start_percent = (success_starts/(success_starts+total_outages)) * 100\n",
    "print(success_starts)\n",
    "print(successful_start_percent)"
   ]
  },
  {
   "cell_type": "code",
   "execution_count": 80,
   "metadata": {},
   "outputs": [
    {
     "data": {
      "text/plain": [
       "<AxesSubplot:>"
      ]
     },
     "execution_count": 80,
     "metadata": {},
     "output_type": "execute_result"
    },
    {
     "data": {
      "image/png": "[encoded data removed]",
      "text/plain": [
       "<Figure size 432x288 with 1 Axes>"
      ]
     },
     "metadata": {
      "needs_background": "light"
     },
     "output_type": "display_data"
    }
   ],
   "source": [
    "sns.barplot(x=['successful_starts', 'total_outages'], y=[success_starts, total_outages])"
   ]
  },
  {
   "cell_type": "code",
   "execution_count": 81,
   "metadata": {},
   "outputs": [
    {
     "data": {
      "image/png": "[encoded data removed]",
      "text/plain": [
       "<Figure size 432x288 with 1 Axes>"
      ]
     },
     "metadata": {
      "needs_background": "light"
     },
     "output_type": "display_data"
    }
   ],
   "source": [
    "peakers_data_wdt_rsrve_by_stage['Percentage of Occurrence'] = (peakers_data_wdt_rsrve_by_stage['Total Occurrences']/peakers_data_wdt_rsrve_by_stage['Total Occurrences'].sum()) * 100\n",
    "\n",
    "sns.barplot(x='Event Description', y='Percentage of Occurrence', data=peakers_data_wdt_rsrve_by_stage)\n",
    "plt.xlabel(None)\n",
    "\n",
    "plt.xticks(rotation=45)\n",
    "plt.show()"
   ]
  },
  {
   "cell_type": "code",
   "execution_count": 82,
   "metadata": {},
   "outputs": [],
   "source": [
    "import datetime as dt"
   ]
  },
  {
   "cell_type": "code",
   "execution_count": 96,
   "metadata": {},
   "outputs": [
    {
     "name": "stdout",
     "output_type": "stream",
     "text": [
      "    Start Date   Event Description  Number of Occurrences\n",
      "0   2019-01-07  Maintenance Outage                      3\n",
      "1   2019-01-30       Forced Outage                      2\n",
      "2   2019-01-30                 Run                      3\n",
      "3   2019-01-31       Forced Outage                      1\n",
      "4   2019-04-15      Planned Outage                      3\n",
      "5   2019-05-29      Planned Outage                      3\n",
      "6   2019-08-12  Maintenance Outage                      3\n",
      "7   2019-09-26                 Run                      2\n",
      "8   2019-11-07      Planned Outage                      3\n",
      "9   2019-12-03                 Run                      3\n",
      "10  2019-12-04                 Run                      3\n"
     ]
    }
   ],
   "source": [
    "peakers_data_wdt_rsrve['Start Date'] = peakers_data_wdt_rsrve['Event Start Date'].dt.date\n",
    "peakers_data_wdt_rsrve_req = peakers_data_wdt_rsrve.loc[:, ['Start Date', 'Unit #', 'Event Description']]\n",
    "\n",
    "peakers_data_wdt_rsrve_req.rename({'Unit #': 'Number of Occurrences'}, axis=1, inplace=True)\n",
    "\n",
    "peakers_data_wdt_rsrve_req_grpby_event = peakers_data_wdt_rsrve_req.groupby(['Start Date', 'Event Description']).count().reset_index()\n",
    "print(peakers_data_wdt_rsrve_req_grpby_event)"
   ]
  },
  {
   "cell_type": "code",
   "execution_count": 102,
   "metadata": {},
   "outputs": [
    {
     "data": {
      "text/plain": [
       "(array([0, 1, 2, 3, 4, 5, 6, 7, 8, 9]),\n",
       " [Text(0, 0, '2019-01-07'),\n",
       "  Text(1, 0, '2019-01-30'),\n",
       "  Text(2, 0, '2019-01-31'),\n",
       "  Text(3, 0, '2019-04-15'),\n",
       "  Text(4, 0, '2019-05-29'),\n",
       "  Text(5, 0, '2019-08-12'),\n",
       "  Text(6, 0, '2019-09-26'),\n",
       "  Text(7, 0, '2019-11-07'),\n",
       "  Text(8, 0, '2019-12-03'),\n",
       "  Text(9, 0, '2019-12-04')])"
      ]
     },
     "execution_count": 102,
     "metadata": {},
     "output_type": "execute_result"
    },
    {
     "data": {
      "image/png": "[encoded data removed]",
      "text/plain": [
       "<Figure size 432x288 with 1 Axes>"
      ]
     },
     "metadata": {
      "needs_background": "light"
     },
     "output_type": "display_data"
    }
   ],
   "source": [
    "sns.barplot(x='Start Date', y='Number of Occurrences', data=peakers_data_wdt_rsrve_req_grpby_event)\n",
    "plt.xticks(rotation=45)\n"
   ]
  },
  {
   "cell_type": "code",
   "execution_count": null,
   "metadata": {},
   "outputs": [],
   "source": []
  }
 ],
 "metadata": {
  "kernelspec": {
   "display_name": "papers_data_analysis",
   "language": "python",
   "name": "papers_data_analysis"
  },
  "language_info": {
   "codemirror_mode": {
    "name": "ipython",
    "version": 3
   },
   "file_extension": ".py",
   "mimetype": "text/x-python",
   "name": "python",
   "nbconvert_exporter": "python",
   "pygments_lexer": "ipython3",
   "version": "3.8.5"
  }
 },
 "nbformat": 4,
 "nbformat_minor": 4
}
